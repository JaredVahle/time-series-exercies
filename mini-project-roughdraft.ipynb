{
 "cells": [
  {
   "cell_type": "code",
   "execution_count": 1,
   "id": "bd5cabc2",
   "metadata": {},
   "outputs": [],
   "source": [
    "import pandas as pd\n",
    "import numpy as np\n",
    "\n",
    "import matplotlib.pyplot as plt\n",
    "import seaborn as sns\n",
    "\n",
    "from datetime import datetime\n",
    "\n",
    "from sklearn.metrics import mean_squared_error\n",
    "from math import sqrt\n",
    "#%matplotlib inline\n",
    "from pandas.plotting import register_matplotlib_converters\n",
    "\n",
    "import statsmodels.api as sm\n",
    "from statsmodels.tsa.api import Holt\n",
    "\n",
    "import warnings\n",
    "warnings.filterwarnings(\"ignore\")\n",
    "\n",
    "import prepare\n",
    "import acquire\n",
    "import wrangle"
   ]
  },
  {
   "cell_type": "code",
   "execution_count": 101,
   "id": "0f59dfe0",
   "metadata": {},
   "outputs": [],
   "source": [
    "df = pd.read_csv('GlobalLandTemperaturesByMajorCity.csv')"
   ]
  },
  {
   "cell_type": "code",
   "execution_count": 102,
   "id": "fe4c2d18",
   "metadata": {},
   "outputs": [
    {
     "data": {
      "text/html": [
       "<div>\n",
       "<style scoped>\n",
       "    .dataframe tbody tr th:only-of-type {\n",
       "        vertical-align: middle;\n",
       "    }\n",
       "\n",
       "    .dataframe tbody tr th {\n",
       "        vertical-align: top;\n",
       "    }\n",
       "\n",
       "    .dataframe thead th {\n",
       "        text-align: right;\n",
       "    }\n",
       "</style>\n",
       "<table border=\"1\" class=\"dataframe\">\n",
       "  <thead>\n",
       "    <tr style=\"text-align: right;\">\n",
       "      <th></th>\n",
       "      <th>dt</th>\n",
       "      <th>AverageTemperature</th>\n",
       "      <th>AverageTemperatureUncertainty</th>\n",
       "      <th>City</th>\n",
       "      <th>Country</th>\n",
       "      <th>Latitude</th>\n",
       "      <th>Longitude</th>\n",
       "    </tr>\n",
       "  </thead>\n",
       "  <tbody>\n",
       "    <tr>\n",
       "      <th>0</th>\n",
       "      <td>1849-01-01</td>\n",
       "      <td>26.704</td>\n",
       "      <td>1.435</td>\n",
       "      <td>Abidjan</td>\n",
       "      <td>Côte D'Ivoire</td>\n",
       "      <td>5.63N</td>\n",
       "      <td>3.23W</td>\n",
       "    </tr>\n",
       "    <tr>\n",
       "      <th>1</th>\n",
       "      <td>1849-02-01</td>\n",
       "      <td>27.434</td>\n",
       "      <td>1.362</td>\n",
       "      <td>Abidjan</td>\n",
       "      <td>Côte D'Ivoire</td>\n",
       "      <td>5.63N</td>\n",
       "      <td>3.23W</td>\n",
       "    </tr>\n",
       "    <tr>\n",
       "      <th>2</th>\n",
       "      <td>1849-03-01</td>\n",
       "      <td>28.101</td>\n",
       "      <td>1.612</td>\n",
       "      <td>Abidjan</td>\n",
       "      <td>Côte D'Ivoire</td>\n",
       "      <td>5.63N</td>\n",
       "      <td>3.23W</td>\n",
       "    </tr>\n",
       "    <tr>\n",
       "      <th>3</th>\n",
       "      <td>1849-04-01</td>\n",
       "      <td>26.140</td>\n",
       "      <td>1.387</td>\n",
       "      <td>Abidjan</td>\n",
       "      <td>Côte D'Ivoire</td>\n",
       "      <td>5.63N</td>\n",
       "      <td>3.23W</td>\n",
       "    </tr>\n",
       "    <tr>\n",
       "      <th>4</th>\n",
       "      <td>1849-05-01</td>\n",
       "      <td>25.427</td>\n",
       "      <td>1.200</td>\n",
       "      <td>Abidjan</td>\n",
       "      <td>Côte D'Ivoire</td>\n",
       "      <td>5.63N</td>\n",
       "      <td>3.23W</td>\n",
       "    </tr>\n",
       "  </tbody>\n",
       "</table>\n",
       "</div>"
      ],
      "text/plain": [
       "           dt  AverageTemperature  AverageTemperatureUncertainty     City  \\\n",
       "0  1849-01-01              26.704                          1.435  Abidjan   \n",
       "1  1849-02-01              27.434                          1.362  Abidjan   \n",
       "2  1849-03-01              28.101                          1.612  Abidjan   \n",
       "3  1849-04-01              26.140                          1.387  Abidjan   \n",
       "4  1849-05-01              25.427                          1.200  Abidjan   \n",
       "\n",
       "         Country Latitude Longitude  \n",
       "0  Côte D'Ivoire    5.63N     3.23W  \n",
       "1  Côte D'Ivoire    5.63N     3.23W  \n",
       "2  Côte D'Ivoire    5.63N     3.23W  \n",
       "3  Côte D'Ivoire    5.63N     3.23W  \n",
       "4  Côte D'Ivoire    5.63N     3.23W  "
      ]
     },
     "execution_count": 102,
     "metadata": {},
     "output_type": "execute_result"
    }
   ],
   "source": [
    "df.head()"
   ]
  },
  {
   "cell_type": "code",
   "execution_count": 103,
   "id": "256df51e",
   "metadata": {},
   "outputs": [
    {
     "data": {
      "text/plain": [
       "India                                 36582\n",
       "China                                 35444\n",
       "Brazil                                12930\n",
       "Turkey                                 9473\n",
       "United States                          8455\n",
       "Egypt                                  7589\n",
       "Pakistan                               7355\n",
       "Russia                                 6478\n",
       "Canada                                 6478\n",
       "Nigeria                                5763\n",
       "Colombia                               4542\n",
       "Indonesia                              4530\n",
       "Australia                              4146\n",
       "Saudi Arabia                           4098\n",
       "Japan                                  4095\n",
       "South Africa                           3762\n",
       "Italy                                  3239\n",
       "Germany                                3239\n",
       "France                                 3239\n",
       "Spain                                  3239\n",
       "Ukraine                                3239\n",
       "United Kingdom                         3239\n",
       "Morocco                                3009\n",
       "Syria                                  2669\n",
       "Bangladesh                             2613\n",
       "Burma                                  2613\n",
       "Thailand                               2371\n",
       "Iraq                                   2337\n",
       "Dominican Republic                     2277\n",
       "Vietnam                                2265\n",
       "Singapore                              2265\n",
       "Iran                                   2181\n",
       "Afghanistan                            2169\n",
       "Mexico                                 2145\n",
       "South Korea                            2097\n",
       "Taiwan                                 2073\n",
       "Philippines                            2025\n",
       "Senegal                                1977\n",
       "Côte D'Ivoire                          1977\n",
       "Ethiopia                               1965\n",
       "Somalia                                1965\n",
       "Zimbabwe                               1965\n",
       "Kenya                                  1965\n",
       "Tanzania                               1965\n",
       "Chile                                  1901\n",
       "Angola                                 1893\n",
       "Congo (Democratic Republic Of The)     1893\n",
       "Sudan                                  1857\n",
       "Peru                                   1591\n",
       "Name: Country, dtype: int64"
      ]
     },
     "execution_count": 103,
     "metadata": {},
     "output_type": "execute_result"
    }
   ],
   "source": [
    "df.Country.value_counts()"
   ]
  },
  {
   "cell_type": "code",
   "execution_count": 104,
   "id": "563cc5cd",
   "metadata": {},
   "outputs": [],
   "source": [
    "df = df[df.Country == 'United States']"
   ]
  },
  {
   "cell_type": "code",
   "execution_count": 105,
   "id": "85378eee",
   "metadata": {},
   "outputs": [
    {
     "data": {
      "text/plain": [
       "New York       3239\n",
       "Chicago        3239\n",
       "Los Angeles    1977\n",
       "Name: City, dtype: int64"
      ]
     },
     "execution_count": 105,
     "metadata": {},
     "output_type": "execute_result"
    }
   ],
   "source": [
    "df.City.value_counts()"
   ]
  },
  {
   "cell_type": "code",
   "execution_count": 106,
   "id": "57efe1b9",
   "metadata": {},
   "outputs": [],
   "source": [
    "df = df[df.City == 'New York']"
   ]
  },
  {
   "cell_type": "code",
   "execution_count": 107,
   "id": "5415fa7c",
   "metadata": {},
   "outputs": [
    {
     "data": {
      "text/plain": [
       "(3239, 7)"
      ]
     },
     "execution_count": 107,
     "metadata": {},
     "output_type": "execute_result"
    }
   ],
   "source": [
    "df.shape"
   ]
  },
  {
   "cell_type": "code",
   "execution_count": 108,
   "id": "dec2134a",
   "metadata": {},
   "outputs": [
    {
     "data": {
      "text/html": [
       "<div>\n",
       "<style scoped>\n",
       "    .dataframe tbody tr th:only-of-type {\n",
       "        vertical-align: middle;\n",
       "    }\n",
       "\n",
       "    .dataframe tbody tr th {\n",
       "        vertical-align: top;\n",
       "    }\n",
       "\n",
       "    .dataframe thead th {\n",
       "        text-align: right;\n",
       "    }\n",
       "</style>\n",
       "<table border=\"1\" class=\"dataframe\">\n",
       "  <thead>\n",
       "    <tr style=\"text-align: right;\">\n",
       "      <th></th>\n",
       "      <th>dt</th>\n",
       "      <th>AverageTemperature</th>\n",
       "      <th>AverageTemperatureUncertainty</th>\n",
       "      <th>City</th>\n",
       "      <th>Country</th>\n",
       "      <th>Latitude</th>\n",
       "      <th>Longitude</th>\n",
       "    </tr>\n",
       "  </thead>\n",
       "  <tbody>\n",
       "    <tr>\n",
       "      <th>169769</th>\n",
       "      <td>1743-11-01</td>\n",
       "      <td>3.264</td>\n",
       "      <td>1.665</td>\n",
       "      <td>New York</td>\n",
       "      <td>United States</td>\n",
       "      <td>40.99N</td>\n",
       "      <td>74.56W</td>\n",
       "    </tr>\n",
       "    <tr>\n",
       "      <th>169770</th>\n",
       "      <td>1743-12-01</td>\n",
       "      <td>NaN</td>\n",
       "      <td>NaN</td>\n",
       "      <td>New York</td>\n",
       "      <td>United States</td>\n",
       "      <td>40.99N</td>\n",
       "      <td>74.56W</td>\n",
       "    </tr>\n",
       "    <tr>\n",
       "      <th>169771</th>\n",
       "      <td>1744-01-01</td>\n",
       "      <td>NaN</td>\n",
       "      <td>NaN</td>\n",
       "      <td>New York</td>\n",
       "      <td>United States</td>\n",
       "      <td>40.99N</td>\n",
       "      <td>74.56W</td>\n",
       "    </tr>\n",
       "    <tr>\n",
       "      <th>169772</th>\n",
       "      <td>1744-02-01</td>\n",
       "      <td>NaN</td>\n",
       "      <td>NaN</td>\n",
       "      <td>New York</td>\n",
       "      <td>United States</td>\n",
       "      <td>40.99N</td>\n",
       "      <td>74.56W</td>\n",
       "    </tr>\n",
       "    <tr>\n",
       "      <th>169773</th>\n",
       "      <td>1744-03-01</td>\n",
       "      <td>NaN</td>\n",
       "      <td>NaN</td>\n",
       "      <td>New York</td>\n",
       "      <td>United States</td>\n",
       "      <td>40.99N</td>\n",
       "      <td>74.56W</td>\n",
       "    </tr>\n",
       "  </tbody>\n",
       "</table>\n",
       "</div>"
      ],
      "text/plain": [
       "                dt  AverageTemperature  AverageTemperatureUncertainty  \\\n",
       "169769  1743-11-01               3.264                          1.665   \n",
       "169770  1743-12-01                 NaN                            NaN   \n",
       "169771  1744-01-01                 NaN                            NaN   \n",
       "169772  1744-02-01                 NaN                            NaN   \n",
       "169773  1744-03-01                 NaN                            NaN   \n",
       "\n",
       "            City        Country Latitude Longitude  \n",
       "169769  New York  United States   40.99N    74.56W  \n",
       "169770  New York  United States   40.99N    74.56W  \n",
       "169771  New York  United States   40.99N    74.56W  \n",
       "169772  New York  United States   40.99N    74.56W  \n",
       "169773  New York  United States   40.99N    74.56W  "
      ]
     },
     "execution_count": 108,
     "metadata": {},
     "output_type": "execute_result"
    }
   ],
   "source": [
    "df.head()"
   ]
  },
  {
   "cell_type": "code",
   "execution_count": 109,
   "id": "1a222a6a",
   "metadata": {
    "scrolled": true
   },
   "outputs": [
    {
     "data": {
      "text/plain": [
       "dt                                 0\n",
       "AverageTemperature               120\n",
       "AverageTemperatureUncertainty    120\n",
       "City                               0\n",
       "Country                            0\n",
       "Latitude                           0\n",
       "Longitude                          0\n",
       "dtype: int64"
      ]
     },
     "execution_count": 109,
     "metadata": {},
     "output_type": "execute_result"
    }
   ],
   "source": [
    "df.isnull().sum()"
   ]
  },
  {
   "cell_type": "code",
   "execution_count": 110,
   "id": "be8a610a",
   "metadata": {},
   "outputs": [],
   "source": [
    "def prep_data(df):\n",
    "    df.drop(columns = [\"City\", \"Country\", \"Latitude\", \"Longitude\"],inplace = True)\n",
    "    df.dropna(inplace = True)\n",
    "    return df.assign(dt = pd.to_datetime(df.dt)).sort_values('dt').\\\n",
    "            assign(avg_degrees = df.AverageTemperature * 9/5 + 32).\\\n",
    "            groupby(['dt'])[['AverageTemperature','avg_degrees']].mean()\n",
    "            "
   ]
  },
  {
   "cell_type": "code",
   "execution_count": 111,
   "id": "4031f512",
   "metadata": {
    "scrolled": true
   },
   "outputs": [],
   "source": [
    "df = prep_data(df)"
   ]
  },
  {
   "cell_type": "code",
   "execution_count": 112,
   "id": "42f4e8ef",
   "metadata": {},
   "outputs": [
    {
     "data": {
      "text/plain": [
       "<AxesSubplot:xlabel='dt'>"
      ]
     },
     "execution_count": 112,
     "metadata": {},
     "output_type": "execute_result"
    },
    {
     "data": {
      "image/png": "[encoded data removed]",
      "text/plain": [
       "<Figure size 432x288 with 1 Axes>"
      ]
     },
     "metadata": {
      "needs_background": "light"
     },
     "output_type": "display_data"
    }
   ],
   "source": [
    "df.avg_degrees.plot()"
   ]
  },
  {
   "cell_type": "code",
   "execution_count": 71,
   "id": "6e8b15f3",
   "metadata": {},
   "outputs": [],
   "source": [
    "df.drop(columns = [\"City\", \"Country\", \"Latitude\", \"Longitude\"],inplace = True)"
   ]
  },
  {
   "cell_type": "code",
   "execution_count": 73,
   "id": "e01d2013",
   "metadata": {},
   "outputs": [],
   "source": [
    "df.dropna(inplace = True)"
   ]
  },
  {
   "cell_type": "code",
   "execution_count": 74,
   "id": "51994014",
   "metadata": {},
   "outputs": [
    {
     "data": {
      "text/plain": [
       "<AxesSubplot:>"
      ]
     },
     "execution_count": 74,
     "metadata": {},
     "output_type": "execute_result"
    },
    {
     "data": {
      "image/png": "[encoded data removed]",
      "text/plain": [
       "<Figure size 432x288 with 1 Axes>"
      ]
     },
     "metadata": {
      "needs_background": "light"
     },
     "output_type": "display_data"
    }
   ],
   "source": [
    "df.AverageTemperature.plot()"
   ]
  },
  {
   "cell_type": "code",
   "execution_count": 114,
   "id": "caecda6c",
   "metadata": {},
   "outputs": [
    {
     "ename": "AttributeError",
     "evalue": "'DatetimeIndex' object has no attribute 'resample'",
     "output_type": "error",
     "traceback": [
      "\u001b[0;31m---------------------------------------------------------------------------\u001b[0m",
      "\u001b[0;31mAttributeError\u001b[0m                            Traceback (most recent call last)",
      "\u001b[0;32m<ipython-input-114-0b2234d6b9a3>\u001b[0m in \u001b[0;36m<module>\u001b[0;34m\u001b[0m\n\u001b[0;32m----> 1\u001b[0;31m \u001b[0mdf\u001b[0m\u001b[0;34m.\u001b[0m\u001b[0mindex\u001b[0m\u001b[0;34m.\u001b[0m\u001b[0mresample\u001b[0m\u001b[0;34m(\u001b[0m\u001b[0;34m'3M'\u001b[0m\u001b[0;34m)\u001b[0m\u001b[0;34m[\u001b[0m\u001b[0;34m'AverageTemperature'\u001b[0m\u001b[0;34m,\u001b[0m\u001b[0;34m'avg_degrees'\u001b[0m\u001b[0;34m]\u001b[0m\u001b[0;34m.\u001b[0m\u001b[0mmean\u001b[0m\u001b[0;34m(\u001b[0m\u001b[0;34m)\u001b[0m\u001b[0;34m\u001b[0m\u001b[0;34m\u001b[0m\u001b[0m\n\u001b[0m",
      "\u001b[0;31mAttributeError\u001b[0m: 'DatetimeIndex' object has no attribute 'resample'"
     ]
    }
   ],
   "source": [
    "df.index.resample('3M')['AverageTemperature','avg_degrees'].mean()"
   ]
  },
  {
   "cell_type": "code",
   "execution_count": 75,
   "id": "2f679fcb",
   "metadata": {},
   "outputs": [
    {
     "data": {
      "text/plain": [
       "False    3119\n",
       "Name: dt, dtype: int64"
      ]
     },
     "execution_count": 75,
     "metadata": {},
     "output_type": "execute_result"
    }
   ],
   "source": [
    "df.isnull().dt.value_counts()"
   ]
  },
  {
   "cell_type": "code",
   "execution_count": 77,
   "id": "974f59ab",
   "metadata": {
    "scrolled": true
   },
   "outputs": [
    {
     "data": {
      "text/html": [
       "<div>\n",
       "<style scoped>\n",
       "    .dataframe tbody tr th:only-of-type {\n",
       "        vertical-align: middle;\n",
       "    }\n",
       "\n",
       "    .dataframe tbody tr th {\n",
       "        vertical-align: top;\n",
       "    }\n",
       "\n",
       "    .dataframe thead th {\n",
       "        text-align: right;\n",
       "    }\n",
       "</style>\n",
       "<table border=\"1\" class=\"dataframe\">\n",
       "  <thead>\n",
       "    <tr style=\"text-align: right;\">\n",
       "      <th></th>\n",
       "      <th>dt</th>\n",
       "      <th>AverageTemperature</th>\n",
       "      <th>AverageTemperatureUncertainty</th>\n",
       "    </tr>\n",
       "  </thead>\n",
       "  <tbody>\n",
       "    <tr>\n",
       "      <th>169769</th>\n",
       "      <td>1743-11-01</td>\n",
       "      <td>3.264</td>\n",
       "      <td>1.665</td>\n",
       "    </tr>\n",
       "    <tr>\n",
       "      <th>169774</th>\n",
       "      <td>1744-04-01</td>\n",
       "      <td>9.788</td>\n",
       "      <td>2.151</td>\n",
       "    </tr>\n",
       "    <tr>\n",
       "      <th>169775</th>\n",
       "      <td>1744-05-01</td>\n",
       "      <td>15.708</td>\n",
       "      <td>1.506</td>\n",
       "    </tr>\n",
       "    <tr>\n",
       "      <th>169776</th>\n",
       "      <td>1744-06-01</td>\n",
       "      <td>21.210</td>\n",
       "      <td>1.455</td>\n",
       "    </tr>\n",
       "    <tr>\n",
       "      <th>169777</th>\n",
       "      <td>1744-07-01</td>\n",
       "      <td>22.207</td>\n",
       "      <td>1.305</td>\n",
       "    </tr>\n",
       "  </tbody>\n",
       "</table>\n",
       "</div>"
      ],
      "text/plain": [
       "                dt  AverageTemperature  AverageTemperatureUncertainty\n",
       "169769  1743-11-01               3.264                          1.665\n",
       "169774  1744-04-01               9.788                          2.151\n",
       "169775  1744-05-01              15.708                          1.506\n",
       "169776  1744-06-01              21.210                          1.455\n",
       "169777  1744-07-01              22.207                          1.305"
      ]
     },
     "execution_count": 77,
     "metadata": {},
     "output_type": "execute_result"
    }
   ],
   "source": [
    "df.head()"
   ]
  },
  {
   "cell_type": "code",
   "execution_count": 17,
   "id": "54d64a4e",
   "metadata": {},
   "outputs": [],
   "source": [
    "df = acquire.get_temp_data()"
   ]
  },
  {
   "cell_type": "code",
   "execution_count": 18,
   "id": "b908727b",
   "metadata": {},
   "outputs": [
    {
     "data": {
      "text/plain": [
       "18.1259688528542"
      ]
     },
     "execution_count": 18,
     "metadata": {},
     "output_type": "execute_result"
    }
   ],
   "source": [
    "df.AverageTemperature.mean()"
   ]
  },
  {
   "cell_type": "code",
   "execution_count": 19,
   "id": "e0df22c1",
   "metadata": {},
   "outputs": [
    {
     "data": {
      "text/plain": [
       "14.037"
      ]
     },
     "execution_count": 19,
     "metadata": {},
     "output_type": "execute_result"
    }
   ],
   "source": [
    "df.AverageTemperatureUncertainty.max()"
   ]
  },
  {
   "cell_type": "code",
   "execution_count": 20,
   "id": "9499e2ff",
   "metadata": {},
   "outputs": [
    {
     "data": {
      "text/plain": [
       "(239177, 7)"
      ]
     },
     "execution_count": 20,
     "metadata": {},
     "output_type": "execute_result"
    }
   ],
   "source": [
    "df.shape"
   ]
  },
  {
   "cell_type": "code",
   "execution_count": 21,
   "id": "c5fdd3d2",
   "metadata": {},
   "outputs": [],
   "source": [
    "def clean_temp_data(df):\n",
    "    '''\n",
    "    Takes in a dataframe and selects only for the city of newyork, removes unneeded columns,\n",
    "    groups the values by every 3 months, and removes null values.\n",
    "    We also remove all temperatures with a uncertainty of over 10.\n",
    "    '''\n",
    "    df = df[df.City == 'New York']\n",
    "    df = df[df.AverageTemperatureUncertainty < 10]\n",
    "    df.drop(columns = [\"City\", \"Country\", \"Latitude\", \"Longitude\",\"AverageTemperatureUncertainty\"],inplace = True)\n",
    "    df.rename(columns = {'AverageTemperature': \"avg_temp\"},inplace = True)\n",
    "\n",
    "    df['dt'] = pd.to_datetime(df.dt)\n",
    "    df.set_index('dt',inplace = True)\n",
    "    df.dropna(inplace = True)\n",
    "    \n",
    "    return df"
   ]
  },
  {
   "cell_type": "code",
   "execution_count": 22,
   "id": "a0a2f479",
   "metadata": {},
   "outputs": [],
   "source": [
    "df = clean_temp_data(df)"
   ]
  },
  {
   "cell_type": "code",
   "execution_count": 23,
   "id": "5d05cd5e",
   "metadata": {},
   "outputs": [
    {
     "data": {
      "text/html": [
       "<div>\n",
       "<style scoped>\n",
       "    .dataframe tbody tr th:only-of-type {\n",
       "        vertical-align: middle;\n",
       "    }\n",
       "\n",
       "    .dataframe tbody tr th {\n",
       "        vertical-align: top;\n",
       "    }\n",
       "\n",
       "    .dataframe thead th {\n",
       "        text-align: right;\n",
       "    }\n",
       "</style>\n",
       "<table border=\"1\" class=\"dataframe\">\n",
       "  <thead>\n",
       "    <tr style=\"text-align: right;\">\n",
       "      <th></th>\n",
       "      <th>avg_temp</th>\n",
       "    </tr>\n",
       "    <tr>\n",
       "      <th>dt</th>\n",
       "      <th></th>\n",
       "    </tr>\n",
       "  </thead>\n",
       "  <tbody>\n",
       "    <tr>\n",
       "      <th>1743-11-01</th>\n",
       "      <td>3.264</td>\n",
       "    </tr>\n",
       "    <tr>\n",
       "      <th>1744-04-01</th>\n",
       "      <td>9.788</td>\n",
       "    </tr>\n",
       "    <tr>\n",
       "      <th>1744-05-01</th>\n",
       "      <td>15.708</td>\n",
       "    </tr>\n",
       "    <tr>\n",
       "      <th>1744-06-01</th>\n",
       "      <td>21.210</td>\n",
       "    </tr>\n",
       "    <tr>\n",
       "      <th>1744-07-01</th>\n",
       "      <td>22.207</td>\n",
       "    </tr>\n",
       "  </tbody>\n",
       "</table>\n",
       "</div>"
      ],
      "text/plain": [
       "            avg_temp\n",
       "dt                  \n",
       "1743-11-01     3.264\n",
       "1744-04-01     9.788\n",
       "1744-05-01    15.708\n",
       "1744-06-01    21.210\n",
       "1744-07-01    22.207"
      ]
     },
     "execution_count": 23,
     "metadata": {},
     "output_type": "execute_result"
    }
   ],
   "source": [
    "df.head()"
   ]
  },
  {
   "cell_type": "code",
   "execution_count": 13,
   "id": "8a51dc41",
   "metadata": {},
   "outputs": [],
   "source": [
    "df = wrangle.wrangle_ny_temp_data()"
   ]
  },
  {
   "cell_type": "code",
   "execution_count": 14,
   "id": "ef263726",
   "metadata": {},
   "outputs": [
    {
     "data": {
      "text/html": [
       "<div>\n",
       "<style scoped>\n",
       "    .dataframe tbody tr th:only-of-type {\n",
       "        vertical-align: middle;\n",
       "    }\n",
       "\n",
       "    .dataframe tbody tr th {\n",
       "        vertical-align: top;\n",
       "    }\n",
       "\n",
       "    .dataframe thead th {\n",
       "        text-align: right;\n",
       "    }\n",
       "</style>\n",
       "<table border=\"1\" class=\"dataframe\">\n",
       "  <thead>\n",
       "    <tr style=\"text-align: right;\">\n",
       "      <th></th>\n",
       "      <th>avg_temp</th>\n",
       "    </tr>\n",
       "    <tr>\n",
       "      <th>dt</th>\n",
       "      <th></th>\n",
       "    </tr>\n",
       "  </thead>\n",
       "  <tbody>\n",
       "    <tr>\n",
       "      <th>1743-11-01</th>\n",
       "      <td>3.264</td>\n",
       "    </tr>\n",
       "    <tr>\n",
       "      <th>1744-04-01</th>\n",
       "      <td>9.788</td>\n",
       "    </tr>\n",
       "    <tr>\n",
       "      <th>1744-05-01</th>\n",
       "      <td>15.708</td>\n",
       "    </tr>\n",
       "    <tr>\n",
       "      <th>1744-06-01</th>\n",
       "      <td>21.210</td>\n",
       "    </tr>\n",
       "    <tr>\n",
       "      <th>1744-07-01</th>\n",
       "      <td>22.207</td>\n",
       "    </tr>\n",
       "  </tbody>\n",
       "</table>\n",
       "</div>"
      ],
      "text/plain": [
       "            avg_temp\n",
       "dt                  \n",
       "1743-11-01     3.264\n",
       "1744-04-01     9.788\n",
       "1744-05-01    15.708\n",
       "1744-06-01    21.210\n",
       "1744-07-01    22.207"
      ]
     },
     "execution_count": 14,
     "metadata": {},
     "output_type": "execute_result"
    }
   ],
   "source": [
    "df.head()"
   ]
  },
  {
   "cell_type": "code",
   "execution_count": 4,
   "id": "46c4ab8e",
   "metadata": {},
   "outputs": [
    {
     "data": {
      "text/plain": [
       "avg_temp    0\n",
       "dtype: int64"
      ]
     },
     "execution_count": 4,
     "metadata": {},
     "output_type": "execute_result"
    }
   ],
   "source": [
    "df.isnull().sum()"
   ]
  },
  {
   "cell_type": "code",
   "execution_count": null,
   "id": "37bcf415",
   "metadata": {},
   "outputs": [],
   "source": [
    "train = df['1781-01-01':'1920-01-01']\n",
    "validate = df['1920-01-02':'1970-01-01']\n",
    "test = df['1970-01-02':]"
   ]
  }
 ],
 "metadata": {
  "kernelspec": {
   "display_name": "Python 3",
   "language": "python",
   "name": "python3"
  },
  "language_info": {
   "codemirror_mode": {
    "name": "ipython",
    "version": 3
   },
   "file_extension": ".py",
   "mimetype": "text/x-python",
   "name": "python",
   "nbconvert_exporter": "python",
   "pygments_lexer": "ipython3",
   "version": "3.8.8"
  }
 },
 "nbformat": 4,
 "nbformat_minor": 5
}
